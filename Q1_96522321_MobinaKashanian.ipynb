{
  "nbformat": 4,
  "nbformat_minor": 0,
  "metadata": {
    "colab": {
      "name": "Q1_96522321.ipynb",
      "provenance": [],
      "collapsed_sections": []
    },
    "kernelspec": {
      "name": "python3",
      "display_name": "Python 3"
    }
  },
  "cells": [
    {
      "cell_type": "code",
      "metadata": {
        "id": "nxROH5E4oCNK",
        "colab_type": "code",
        "colab": {}
      },
      "source": [
        "import numpy as np\n",
        "import pandas as pd\n",
        "import matplotlib.pyplot as plt\n",
        "import matplotlib\n",
        "import math\n",
        "import random"
      ],
      "execution_count": 1,
      "outputs": []
    },
    {
      "cell_type": "code",
      "metadata": {
        "id": "ao7o8qBuoXpR",
        "colab_type": "code",
        "colab": {
          "base_uri": "https://localhost:8080/",
          "height": 84
        },
        "outputId": "2e97209f-de3e-487f-a582-27892c50aac4"
      },
      "source": [
        "#load data #0,  1,  2,  3,\n",
        "city_name=['A','B','C','D']\n",
        "city_weight=[30,30,35,25,40]\n",
        "city_weight=np.array(city_weight)\n",
        "\n",
        "city_count = len(city_name)\n",
        "Distance=np.zeros([city_count,city_count])\n",
        "\n",
        "# for i in range(city_count):\n",
        "#     for j in range(city_count):\n",
        "\n",
        "##A\n",
        "Distance[0][1]=30\n",
        "Distance[0][2]=50\n",
        "Distance[0][3]=40\n",
        "##B\n",
        "Distance[1][0]=30\n",
        "Distance[1][2]=30\n",
        "Distance[1][3]=35\n",
        "##C\n",
        "Distance[2][0]=50\n",
        "Distance[2][1]=30\n",
        "Distance[2][3]=25\n",
        "##D\n",
        "Distance[3][0]=40\n",
        "Distance[3][1]=35\n",
        "Distance[3][2]=25\n",
        "\n",
        "\n",
        "print(Distance)"
      ],
      "execution_count": 2,
      "outputs": [
        {
          "output_type": "stream",
          "text": [
            "[[ 0. 30. 50. 40.]\n",
            " [30.  0. 30. 35.]\n",
            " [50. 30.  0. 25.]\n",
            " [40. 35. 25.  0.]]\n"
          ],
          "name": "stdout"
        }
      ]
    },
    {
      "cell_type": "code",
      "metadata": {
        "id": "_RY8qE5FtGbN",
        "colab_type": "code",
        "colab": {}
      },
      "source": [
        "# Population\n",
        "count = 300\n",
        "improve_numb = 10000\n",
        "iteration = 400\n",
        "\n",
        "retain_rate = 0.3\n",
        "random_select_rate = 0.5\n",
        "mutation_rate = 0.1\n",
        "\n",
        "origin = 2\n",
        "index = [i for i in range(city_count)]\n",
        "index.remove(2)"
      ],
      "execution_count": 3,
      "outputs": []
    },
    {
      "cell_type": "code",
      "metadata": {
        "id": "gE5J_9n2tUT9",
        "colab_type": "code",
        "colab": {}
      },
      "source": [
        "# total distance\n",
        "def get_total_distance(x):\n",
        "    distance = 0\n",
        "    distance += Distance[origin][x[0]]\n",
        "    for i in range(len(x)):\n",
        "        if i == len(x) - 1:\n",
        "            distance += Distance[origin][x[i]]\n",
        "        else:\n",
        "            distance += Distance[x[i]][x[i + 1]]\n",
        "    return distance"
      ],
      "execution_count": 4,
      "outputs": []
    },
    {
      "cell_type": "code",
      "metadata": {
        "id": "7mGtnLuQtikS",
        "colab_type": "code",
        "colab": {}
      },
      "source": [
        "def effort(x):\n",
        "    i = 0\n",
        "    distance = get_total_distance(x)\n",
        "    while i < improve_numb:\n",
        "        # randint [a,b]\n",
        "        u = random.randint(0, len(x) - 1)\n",
        "        v = random.randint(0, len(x) - 1)\n",
        "        if u != v:\n",
        "            new_x = x.copy()\n",
        "            t = new_x[u]\n",
        "            new_x[u] = new_x[v]\n",
        "            new_x[v] = t\n",
        "            new_distance = get_total_distance(new_x)\n",
        "            if new_distance < distance:\n",
        "                distance = new_distance\n",
        "                x = new_x.copy()\n",
        "        else:\n",
        "            continue\n",
        "        i += 1"
      ],
      "execution_count": 5,
      "outputs": []
    },
    {
      "cell_type": "code",
      "metadata": {
        "id": "PV9Q16cctmFN",
        "colab_type": "code",
        "colab": {}
      },
      "source": [
        "def selection(population):\n",
        "    graded = [[get_total_distance(x), x] for x in population]\n",
        "    graded = [x[1] for x in sorted(graded)]\n",
        "    retain_length = int(len(graded) * retain_rate)\n",
        "    parents = graded[:retain_length]\n",
        "    for chromosome in graded[retain_length:]:\n",
        "        if random.random() < random_select_rate:\n",
        "            parents.append(chromosome)\n",
        "    return parents"
      ],
      "execution_count": 6,
      "outputs": []
    },
    {
      "cell_type": "code",
      "metadata": {
        "id": "LLU6OMo-tpk4",
        "colab_type": "code",
        "colab": {}
      },
      "source": [
        "def crossover(parents):\n",
        "    target_count = count - len(parents)\n",
        "    children = []\n",
        "    while len(children) < target_count:\n",
        "        male_index = random.randint(0, len(parents) - 1)\n",
        "        female_index = random.randint(0, len(parents) - 1)\n",
        "        if male_index != female_index:\n",
        "            male = parents[male_index]\n",
        "            female = parents[female_index]\n",
        "\n",
        "            left = random.randint(0, len(male) - 2)\n",
        "            right = random.randint(left + 1, len(male) - 1)\n",
        "\n",
        "            # Cross section\n",
        "            gene1 = male[left:right]\n",
        "            gene2 = female[left:right]\n",
        "\n",
        "            child1_c = male[right:] + male[:right]\n",
        "            child2_c = female[right:] + female[:right]\n",
        "            child1 = child1_c.copy()\n",
        "            child2 = child2_c.copy()\n",
        "\n",
        "            for o in gene2:\n",
        "                child1_c.remove(o)\n",
        "\n",
        "            for o in gene1:\n",
        "                child2_c.remove(o)\n",
        "\n",
        "            child1[left:right] = gene2\n",
        "            child2[left:right] = gene1\n",
        "\n",
        "            child1[right:] = child1_c[0:len(child1) - right]\n",
        "            child1[:left] = child1_c[len(child1) - right:]\n",
        "\n",
        "            child2[right:] = child2_c[0:len(child1) - right]\n",
        "            child2[:left] = child2_c[len(child1) - right:]\n",
        "\n",
        "            children.append(child1)\n",
        "            children.append(child2)\n",
        "\n",
        "    return children\n"
      ],
      "execution_count": 7,
      "outputs": []
    },
    {
      "cell_type": "code",
      "metadata": {
        "id": "Q4HMZyWbts6x",
        "colab_type": "code",
        "colab": {}
      },
      "source": [
        "# Mutation\n",
        "def mutation(children):\n",
        "    for i in range(len(children)):\n",
        "        if random.random() < mutation_rate:\n",
        "            child = children[i]\n",
        "            u = random.randint(1, len(child))\n",
        "            child = children[i]\n",
        "            child = child[0:u]  \n",
        "\n"
      ],
      "execution_count": 8,
      "outputs": []
    },
    {
      "cell_type": "code",
      "metadata": {
        "id": "DYcscjDztvnw",
        "colab_type": "code",
        "colab": {}
      },
      "source": [
        "# Get output\n",
        "def get_result(population):\n",
        "    graded = [[get_total_distance(x), x] for x in population]\n",
        "    graded = sorted(graded)\n",
        "    return graded[0][0], graded[0][1]\n",
        "    "
      ],
      "execution_count": 9,
      "outputs": []
    },
    {
      "cell_type": "code",
      "metadata": {
        "id": "nu4DOb1NtzMO",
        "colab_type": "code",
        "pycharm": {
          "name": "#%%\n"
        },
        "colab": {
          "base_uri": "https://localhost:8080/",
          "height": 50
        },
        "outputId": "f5794f93-bab5-43c3-ec7f-8b071b03f9db"
      },
      "source": [
        "population = []\n",
        "for i in range(count):\n",
        "    x = index.copy()\n",
        "    random.shuffle(x)\n",
        "    effort(x)\n",
        "    population.append(x)\n",
        "\n",
        "register = []\n",
        "i = 0\n",
        "distance, result_path = get_result(population)\n",
        "while i < iteration:\n",
        "    parents = selection(population)\n",
        "    # Cross over\n",
        "    children = crossover(parents)\n",
        "    # Mutation\n",
        "    mutation(children)\n",
        "    # Update the population\n",
        "    population = parents + children\n",
        "\n",
        "    distance, result_path = get_result(population)\n",
        "    register.append(distance)\n",
        "    i = i + 1\n",
        "\n",
        "result_path = [origin] + result_path + [origin]\n",
        "print(distance)\n",
        "print(result_path)\n",
        "\n",
        "\n",
        "\n"
      ],
      "execution_count": 10,
      "outputs": [
        {
          "output_type": "stream",
          "text": [
            "125.0\n",
            "[2, 1, 0, 3, 2]\n"
          ],
          "name": "stdout"
        }
      ]
    },
    {
      "cell_type": "code",
      "metadata": {
        "id": "cHM0tZrq8Jpp",
        "colab_type": "code",
        "colab": {}
      },
      "source": [
        ""
      ],
      "execution_count": null,
      "outputs": []
    }
  ]
}